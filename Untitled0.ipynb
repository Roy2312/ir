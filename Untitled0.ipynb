{
  "nbformat": 4,
  "nbformat_minor": 0,
  "metadata": {
    "colab": {
      "provenance": []
    },
    "kernelspec": {
      "name": "python3",
      "display_name": "Python 3"
    },
    "language_info": {
      "name": "python"
    }
  },
  "cells": [
    {
      "cell_type": "code",
      "execution_count": 1,
      "metadata": {
        "colab": {
          "base_uri": "https://localhost:8080/"
        },
        "id": "Pe9ZPULdE8Lt",
        "outputId": "58ac4fd1-4925-41ce-d204-2f142bf2b6a9"
      },
      "outputs": [
        {
          "output_type": "stream",
          "name": "stdout",
          "text": [
            "Precision: 1.00\n",
            "Recall: 1.00\n",
            "F1 Score: 1.00\n",
            "Average Precision: 1.00\n"
          ]
        }
      ],
      "source": [
        "from sklearn.metrics import precision_score, recall_score, f1_score, average_precision_score\n",
        "\n",
        "y_true = [0, 1, 1, 0, 1]\n",
        "y_scores = [0.1, 0.8, 0.6, 0.3, 0.9]\n",
        "\n",
        "# Convert scores to binary predictions using 0.5 threshold\n",
        "y_pred = [1 if score >= 0.5 else 0 for score in y_scores]\n",
        "\n",
        "# Calculate metrics\n",
        "precision = precision_score(y_true, y_pred)\n",
        "recall = recall_score(y_true, y_pred)\n",
        "f1 = f1_score(y_true, y_pred)\n",
        "avg_precision = average_precision_score(y_true, y_scores)\n",
        "\n",
        "print(f\"Precision: {precision:.2f}\")\n",
        "print(f\"Recall: {recall:.2f}\")\n",
        "print(f\"F1 Score: {f1:.2f}\")\n",
        "print(f\"Average Precision: {avg_precision:.2f}\")\n"
      ]
    },
    {
      "cell_type": "code",
      "source": [],
      "metadata": {
        "id": "3r1_WuyPFRQ9"
      },
      "execution_count": null,
      "outputs": []
    }
  ]
}